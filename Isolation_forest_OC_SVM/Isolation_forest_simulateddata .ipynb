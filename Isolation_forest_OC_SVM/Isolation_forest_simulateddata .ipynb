{
 "cells": [
  {
   "cell_type": "code",
   "execution_count": 8,
   "metadata": {
    "scrolled": true
   },
   "outputs": [
    {
     "name": "stdout",
     "output_type": "stream",
     "text": [
      "(50000, 14)\n"
     ]
    },
    {
     "data": {
      "text/html": [
       "<div>\n",
       "<style scoped>\n",
       "    .dataframe tbody tr th:only-of-type {\n",
       "        vertical-align: middle;\n",
       "    }\n",
       "\n",
       "    .dataframe tbody tr th {\n",
       "        vertical-align: top;\n",
       "    }\n",
       "\n",
       "    .dataframe thead th {\n",
       "        text-align: right;\n",
       "    }\n",
       "</style>\n",
       "<table border=\"1\" class=\"dataframe\">\n",
       "  <thead>\n",
       "    <tr style=\"text-align: right;\">\n",
       "      <th></th>\n",
       "      <th>0</th>\n",
       "      <th>1</th>\n",
       "      <th>2</th>\n",
       "      <th>3</th>\n",
       "      <th>4</th>\n",
       "      <th>5</th>\n",
       "      <th>6</th>\n",
       "      <th>7</th>\n",
       "      <th>8</th>\n",
       "      <th>9</th>\n",
       "      <th>10</th>\n",
       "      <th>11</th>\n",
       "      <th>12</th>\n",
       "      <th>13</th>\n",
       "    </tr>\n",
       "  </thead>\n",
       "  <tbody>\n",
       "    <tr>\n",
       "      <td>count</td>\n",
       "      <td>50000.000000</td>\n",
       "      <td>50000.000000</td>\n",
       "      <td>50000.000000</td>\n",
       "      <td>50000.000000</td>\n",
       "      <td>50000.000000</td>\n",
       "      <td>50000.000000</td>\n",
       "      <td>50000.000000</td>\n",
       "      <td>50000.000000</td>\n",
       "      <td>50000.000000</td>\n",
       "      <td>50000.000000</td>\n",
       "      <td>50000.000000</td>\n",
       "      <td>50000.000000</td>\n",
       "      <td>50000.000000</td>\n",
       "      <td>50000.000000</td>\n",
       "    </tr>\n",
       "    <tr>\n",
       "      <td>mean</td>\n",
       "      <td>-931.875523</td>\n",
       "      <td>899.996451</td>\n",
       "      <td>0.010224</td>\n",
       "      <td>-0.004468</td>\n",
       "      <td>599.981783</td>\n",
       "      <td>594.225500</td>\n",
       "      <td>0.003480</td>\n",
       "      <td>0.001547</td>\n",
       "      <td>-0.005027</td>\n",
       "      <td>-1.535362</td>\n",
       "      <td>-1.530386</td>\n",
       "      <td>0.000114</td>\n",
       "      <td>-0.001364</td>\n",
       "      <td>0.001250</td>\n",
       "    </tr>\n",
       "    <tr>\n",
       "      <td>std</td>\n",
       "      <td>2.466219</td>\n",
       "      <td>0.154757</td>\n",
       "      <td>0.174811</td>\n",
       "      <td>0.161377</td>\n",
       "      <td>1.628571</td>\n",
       "      <td>1.666889</td>\n",
       "      <td>218.068474</td>\n",
       "      <td>218.039698</td>\n",
       "      <td>218.023325</td>\n",
       "      <td>0.021992</td>\n",
       "      <td>0.027448</td>\n",
       "      <td>1.425044</td>\n",
       "      <td>1.425668</td>\n",
       "      <td>1.424904</td>\n",
       "    </tr>\n",
       "    <tr>\n",
       "      <td>min</td>\n",
       "      <td>-939.392780</td>\n",
       "      <td>899.526106</td>\n",
       "      <td>-0.686010</td>\n",
       "      <td>-0.518044</td>\n",
       "      <td>595.359047</td>\n",
       "      <td>589.881844</td>\n",
       "      <td>-317.155719</td>\n",
       "      <td>-317.174208</td>\n",
       "      <td>-316.946901</td>\n",
       "      <td>-1.626516</td>\n",
       "      <td>-1.650864</td>\n",
       "      <td>-2.040729</td>\n",
       "      <td>-2.042136</td>\n",
       "      <td>-2.036507</td>\n",
       "    </tr>\n",
       "    <tr>\n",
       "      <td>25%</td>\n",
       "      <td>-932.674144</td>\n",
       "      <td>899.886207</td>\n",
       "      <td>-0.102493</td>\n",
       "      <td>-0.117979</td>\n",
       "      <td>598.735286</td>\n",
       "      <td>593.014749</td>\n",
       "      <td>-214.204689</td>\n",
       "      <td>-214.404769</td>\n",
       "      <td>-214.474508</td>\n",
       "      <td>-1.549718</td>\n",
       "      <td>-1.547341</td>\n",
       "      <td>-1.425896</td>\n",
       "      <td>-1.428106</td>\n",
       "      <td>-1.424386</td>\n",
       "    </tr>\n",
       "    <tr>\n",
       "      <td>50%</td>\n",
       "      <td>-931.783435</td>\n",
       "      <td>899.991315</td>\n",
       "      <td>0.014799</td>\n",
       "      <td>-0.006892</td>\n",
       "      <td>599.994797</td>\n",
       "      <td>594.167872</td>\n",
       "      <td>0.212797</td>\n",
       "      <td>-0.108504</td>\n",
       "      <td>-0.998207</td>\n",
       "      <td>-1.533815</td>\n",
       "      <td>-1.529109</td>\n",
       "      <td>-0.000717</td>\n",
       "      <td>0.000268</td>\n",
       "      <td>0.000341</td>\n",
       "    </tr>\n",
       "    <tr>\n",
       "      <td>75%</td>\n",
       "      <td>-931.011394</td>\n",
       "      <td>900.099170</td>\n",
       "      <td>0.128662</td>\n",
       "      <td>0.109586</td>\n",
       "      <td>601.202982</td>\n",
       "      <td>595.453952</td>\n",
       "      <td>214.327320</td>\n",
       "      <td>214.794533</td>\n",
       "      <td>214.342607</td>\n",
       "      <td>-1.519686</td>\n",
       "      <td>-1.511834</td>\n",
       "      <td>1.426188</td>\n",
       "      <td>1.424922</td>\n",
       "      <td>1.427599</td>\n",
       "    </tr>\n",
       "    <tr>\n",
       "      <td>max</td>\n",
       "      <td>-921.782518</td>\n",
       "      <td>900.515468</td>\n",
       "      <td>0.604444</td>\n",
       "      <td>0.488796</td>\n",
       "      <td>605.351088</td>\n",
       "      <td>598.615021</td>\n",
       "      <td>316.935574</td>\n",
       "      <td>316.924889</td>\n",
       "      <td>316.981069</td>\n",
       "      <td>-1.468571</td>\n",
       "      <td>-1.441937</td>\n",
       "      <td>2.038365</td>\n",
       "      <td>2.042171</td>\n",
       "      <td>2.044322</td>\n",
       "    </tr>\n",
       "  </tbody>\n",
       "</table>\n",
       "</div>"
      ],
      "text/plain": [
       "                 0             1             2             3             4   \\\n",
       "count  50000.000000  50000.000000  50000.000000  50000.000000  50000.000000   \n",
       "mean    -931.875523    899.996451      0.010224     -0.004468    599.981783   \n",
       "std        2.466219      0.154757      0.174811      0.161377      1.628571   \n",
       "min     -939.392780    899.526106     -0.686010     -0.518044    595.359047   \n",
       "25%     -932.674144    899.886207     -0.102493     -0.117979    598.735286   \n",
       "50%     -931.783435    899.991315      0.014799     -0.006892    599.994797   \n",
       "75%     -931.011394    900.099170      0.128662      0.109586    601.202982   \n",
       "max     -921.782518    900.515468      0.604444      0.488796    605.351088   \n",
       "\n",
       "                 5             6             7             8             9   \\\n",
       "count  50000.000000  50000.000000  50000.000000  50000.000000  50000.000000   \n",
       "mean     594.225500      0.003480      0.001547     -0.005027     -1.535362   \n",
       "std        1.666889    218.068474    218.039698    218.023325      0.021992   \n",
       "min      589.881844   -317.155719   -317.174208   -316.946901     -1.626516   \n",
       "25%      593.014749   -214.204689   -214.404769   -214.474508     -1.549718   \n",
       "50%      594.167872      0.212797     -0.108504     -0.998207     -1.533815   \n",
       "75%      595.453952    214.327320    214.794533    214.342607     -1.519686   \n",
       "max      598.615021    316.935574    316.924889    316.981069     -1.468571   \n",
       "\n",
       "                 10            11            12            13  \n",
       "count  50000.000000  50000.000000  50000.000000  50000.000000  \n",
       "mean      -1.530386      0.000114     -0.001364      0.001250  \n",
       "std        0.027448      1.425044      1.425668      1.424904  \n",
       "min       -1.650864     -2.040729     -2.042136     -2.036507  \n",
       "25%       -1.547341     -1.425896     -1.428106     -1.424386  \n",
       "50%       -1.529109     -0.000717      0.000268      0.000341  \n",
       "75%       -1.511834      1.426188      1.424922      1.427599  \n",
       "max       -1.441937      2.038365      2.042171      2.044322  "
      ]
     },
     "execution_count": 8,
     "metadata": {},
     "output_type": "execute_result"
    }
   ],
   "source": [
    "import pandas as pd\n",
    "import numpy as np\n",
    "#reading input data files for ml model training \n",
    "train_data = pd.read_excel(\"PQ_1.xlsx\", usecols=\"B:E\",skiprows=100002)\n",
    "Vdc_1=pd.read_excel(\"Vdc_1.xlsx\", usecols=\"B:C\",skiprows=100002)\n",
    "Vs_1=pd.read_excel(\"Vs_1.xlsx\", usecols=\"B:D\",skiprows=100002)\n",
    "Idc_1=pd.read_excel(\"Idc_1.xlsx\", usecols=\"B:C\",skiprows=100002)\n",
    "Is_1=pd.read_excel(\"Is_1.xlsx\", usecols=\"B:D\",skiprows=100002)\n",
    "train_data=np.concatenate((train_data, Vdc_1,Vs_1,Idc_1,Is_1), axis=1)\n",
    "train_data = pd.DataFrame(data=train_data)\n",
    "print(train_data.shape)\n",
    "train_data.describe()"
   ]
  },
  {
   "cell_type": "code",
   "execution_count": 9,
   "metadata": {
    "scrolled": true
   },
   "outputs": [
    {
     "name": "stdout",
     "output_type": "stream",
     "text": [
      "(50000, 14)\n"
     ]
    },
    {
     "data": {
      "text/html": [
       "<div>\n",
       "<style scoped>\n",
       "    .dataframe tbody tr th:only-of-type {\n",
       "        vertical-align: middle;\n",
       "    }\n",
       "\n",
       "    .dataframe tbody tr th {\n",
       "        vertical-align: top;\n",
       "    }\n",
       "\n",
       "    .dataframe thead th {\n",
       "        text-align: right;\n",
       "    }\n",
       "</style>\n",
       "<table border=\"1\" class=\"dataframe\">\n",
       "  <thead>\n",
       "    <tr style=\"text-align: right;\">\n",
       "      <th></th>\n",
       "      <th>0</th>\n",
       "      <th>1</th>\n",
       "      <th>2</th>\n",
       "      <th>3</th>\n",
       "      <th>4</th>\n",
       "      <th>5</th>\n",
       "      <th>6</th>\n",
       "      <th>7</th>\n",
       "      <th>8</th>\n",
       "      <th>9</th>\n",
       "      <th>10</th>\n",
       "      <th>11</th>\n",
       "      <th>12</th>\n",
       "      <th>13</th>\n",
       "    </tr>\n",
       "  </thead>\n",
       "  <tbody>\n",
       "    <tr>\n",
       "      <td>count</td>\n",
       "      <td>50000.000000</td>\n",
       "      <td>50000.000000</td>\n",
       "      <td>50000.000000</td>\n",
       "      <td>50000.000000</td>\n",
       "      <td>50000.000000</td>\n",
       "      <td>50000.000000</td>\n",
       "      <td>50000.000000</td>\n",
       "      <td>50000.000000</td>\n",
       "      <td>50000.000000</td>\n",
       "      <td>50000.000000</td>\n",
       "      <td>50000.000000</td>\n",
       "      <td>50000.000000</td>\n",
       "      <td>50000.000000</td>\n",
       "      <td>50000.000000</td>\n",
       "    </tr>\n",
       "    <tr>\n",
       "      <td>mean</td>\n",
       "      <td>-0.040621</td>\n",
       "      <td>-2.394531</td>\n",
       "      <td>-9.466789</td>\n",
       "      <td>-0.163484</td>\n",
       "      <td>517.990607</td>\n",
       "      <td>517.946602</td>\n",
       "      <td>-0.000189</td>\n",
       "      <td>-0.003975</td>\n",
       "      <td>0.004164</td>\n",
       "      <td>-0.000025</td>\n",
       "      <td>0.004267</td>\n",
       "      <td>-0.000069</td>\n",
       "      <td>-0.001765</td>\n",
       "      <td>0.001834</td>\n",
       "    </tr>\n",
       "    <tr>\n",
       "      <td>std</td>\n",
       "      <td>0.112897</td>\n",
       "      <td>0.377157</td>\n",
       "      <td>0.112908</td>\n",
       "      <td>0.457593</td>\n",
       "      <td>0.489655</td>\n",
       "      <td>0.405483</td>\n",
       "      <td>230.319736</td>\n",
       "      <td>230.317741</td>\n",
       "      <td>230.319156</td>\n",
       "      <td>0.000005</td>\n",
       "      <td>0.005531</td>\n",
       "      <td>0.013701</td>\n",
       "      <td>0.013705</td>\n",
       "      <td>0.013697</td>\n",
       "    </tr>\n",
       "    <tr>\n",
       "      <td>min</td>\n",
       "      <td>-0.205278</td>\n",
       "      <td>-3.439062</td>\n",
       "      <td>-9.631299</td>\n",
       "      <td>-0.968161</td>\n",
       "      <td>516.529183</td>\n",
       "      <td>516.713063</td>\n",
       "      <td>-325.715280</td>\n",
       "      <td>-325.719085</td>\n",
       "      <td>-325.712496</td>\n",
       "      <td>-0.000031</td>\n",
       "      <td>-0.012950</td>\n",
       "      <td>-0.019475</td>\n",
       "      <td>-0.021218</td>\n",
       "      <td>-0.017578</td>\n",
       "    </tr>\n",
       "    <tr>\n",
       "      <td>25%</td>\n",
       "      <td>-0.153426</td>\n",
       "      <td>-2.662766</td>\n",
       "      <td>-9.579648</td>\n",
       "      <td>-0.606432</td>\n",
       "      <td>517.657080</td>\n",
       "      <td>517.613759</td>\n",
       "      <td>-230.305747</td>\n",
       "      <td>-230.090422</td>\n",
       "      <td>-230.057908</td>\n",
       "      <td>-0.000028</td>\n",
       "      <td>0.000201</td>\n",
       "      <td>-0.013771</td>\n",
       "      <td>-0.015469</td>\n",
       "      <td>-0.011863</td>\n",
       "    </tr>\n",
       "    <tr>\n",
       "      <td>50%</td>\n",
       "      <td>-0.040563</td>\n",
       "      <td>-2.393745</td>\n",
       "      <td>-9.466822</td>\n",
       "      <td>-0.147647</td>\n",
       "      <td>517.919936</td>\n",
       "      <td>517.932874</td>\n",
       "      <td>-0.000158</td>\n",
       "      <td>-0.004011</td>\n",
       "      <td>0.004169</td>\n",
       "      <td>-0.000026</td>\n",
       "      <td>0.004453</td>\n",
       "      <td>-0.000069</td>\n",
       "      <td>-0.001765</td>\n",
       "      <td>0.001833</td>\n",
       "    </tr>\n",
       "    <tr>\n",
       "      <td>75%</td>\n",
       "      <td>0.072228</td>\n",
       "      <td>-2.131181</td>\n",
       "      <td>-9.353977</td>\n",
       "      <td>0.271564</td>\n",
       "      <td>518.374724</td>\n",
       "      <td>518.284778</td>\n",
       "      <td>230.305429</td>\n",
       "      <td>230.082392</td>\n",
       "      <td>230.066289</td>\n",
       "      <td>-0.000021</td>\n",
       "      <td>0.008278</td>\n",
       "      <td>0.013632</td>\n",
       "      <td>0.011940</td>\n",
       "      <td>0.015530</td>\n",
       "    </tr>\n",
       "    <tr>\n",
       "      <td>max</td>\n",
       "      <td>0.123907</td>\n",
       "      <td>-1.349398</td>\n",
       "      <td>-9.302103</td>\n",
       "      <td>0.647441</td>\n",
       "      <td>519.239847</td>\n",
       "      <td>519.021783</td>\n",
       "      <td>325.719282</td>\n",
       "      <td>325.711087</td>\n",
       "      <td>325.717931</td>\n",
       "      <td>-0.000016</td>\n",
       "      <td>0.022423</td>\n",
       "      <td>0.019336</td>\n",
       "      <td>0.017689</td>\n",
       "      <td>0.021247</td>\n",
       "    </tr>\n",
       "  </tbody>\n",
       "</table>\n",
       "</div>"
      ],
      "text/plain": [
       "                 0             1             2             3             4   \\\n",
       "count  50000.000000  50000.000000  50000.000000  50000.000000  50000.000000   \n",
       "mean      -0.040621     -2.394531     -9.466789     -0.163484    517.990607   \n",
       "std        0.112897      0.377157      0.112908      0.457593      0.489655   \n",
       "min       -0.205278     -3.439062     -9.631299     -0.968161    516.529183   \n",
       "25%       -0.153426     -2.662766     -9.579648     -0.606432    517.657080   \n",
       "50%       -0.040563     -2.393745     -9.466822     -0.147647    517.919936   \n",
       "75%        0.072228     -2.131181     -9.353977      0.271564    518.374724   \n",
       "max        0.123907     -1.349398     -9.302103      0.647441    519.239847   \n",
       "\n",
       "                 5             6             7             8             9   \\\n",
       "count  50000.000000  50000.000000  50000.000000  50000.000000  50000.000000   \n",
       "mean     517.946602     -0.000189     -0.003975      0.004164     -0.000025   \n",
       "std        0.405483    230.319736    230.317741    230.319156      0.000005   \n",
       "min      516.713063   -325.715280   -325.719085   -325.712496     -0.000031   \n",
       "25%      517.613759   -230.305747   -230.090422   -230.057908     -0.000028   \n",
       "50%      517.932874     -0.000158     -0.004011      0.004169     -0.000026   \n",
       "75%      518.284778    230.305429    230.082392    230.066289     -0.000021   \n",
       "max      519.021783    325.719282    325.711087    325.717931     -0.000016   \n",
       "\n",
       "                 10            11            12            13  \n",
       "count  50000.000000  50000.000000  50000.000000  50000.000000  \n",
       "mean       0.004267     -0.000069     -0.001765      0.001834  \n",
       "std        0.005531      0.013701      0.013705      0.013697  \n",
       "min       -0.012950     -0.019475     -0.021218     -0.017578  \n",
       "25%        0.000201     -0.013771     -0.015469     -0.011863  \n",
       "50%        0.004453     -0.000069     -0.001765      0.001833  \n",
       "75%        0.008278      0.013632      0.011940      0.015530  \n",
       "max        0.022423      0.019336      0.017689      0.021247  "
      ]
     },
     "execution_count": 9,
     "metadata": {},
     "output_type": "execute_result"
    }
   ],
   "source": [
    "#reading outlier data points, outliers correspond to faults \n",
    "outlier_data = pd.read_excel(\"PQ_4.xlsx\", usecols=\"B:E\",skiprows=100002)\n",
    "Vdc_4=pd.read_excel(\"Vdc_4.xlsx\", usecols=\"B:C\",skiprows=100002)\n",
    "Vs_4=pd.read_excel(\"Vs_4.xlsx\", usecols=\"B:D\",skiprows=100002)\n",
    "Idc_4=pd.read_excel(\"Idc_4.xlsx\", usecols=\"B:C\",skiprows=100002)\n",
    "Is_4=pd.read_excel(\"Is_4.xlsx\", usecols=\"B:D\",skiprows=100002)\n",
    "outlier_data=np.concatenate((outlier_data, Vdc_4,Vs_4,Idc_4,Is_4), axis=1)\n",
    "outlier_data = pd.DataFrame(data=outlier_data)\n",
    "print(outlier_data.shape)\n",
    "outlier_data.describe()"
   ]
  },
  {
   "cell_type": "code",
   "execution_count": 10,
   "metadata": {},
   "outputs": [
    {
     "data": {
      "text/plain": [
       "IsolationForest(behaviour='new', bootstrap=False, contamination=0.01,\n",
       "                max_features=1.0, max_samples=10, n_estimators=100, n_jobs=None,\n",
       "                random_state=RandomState(MT19937) at 0x11B6429E0, verbose=0,\n",
       "                warm_start=False)"
      ]
     },
     "execution_count": 10,
     "metadata": {},
     "output_type": "execute_result"
    }
   ],
   "source": [
    "#training iForest \n",
    "from sklearn.ensemble import IsolationForest\n",
    "rng = np.random.RandomState(42)\n",
    "clf = IsolationForest(max_samples=10, random_state=rng, behaviour=\"new\",contamination=0.01)\n",
    "clf.fit(train_data)"
   ]
  },
  {
   "cell_type": "code",
   "execution_count": 11,
   "metadata": {},
   "outputs": [
    {
     "name": "stdout",
     "output_type": "stream",
     "text": [
      "train accuracy: 99.0\n",
      "outlier prediction accuracy: 100.0\n"
     ]
    }
   ],
   "source": [
    "y_pred_train=clf.predict(train_data)\n",
    "y_pred_outliers=clf.predict(outlier_data)\n",
    "n_error_train=y_pred_train[y_pred_train==-1].size\n",
    "print('train accuracy:',100-n_error_train/50000*100)\n",
    "n_accuracy_outliers=y_pred_outliers[y_pred_outliers==-1].size\n",
    "print('outlier prediction accuracy:' ,n_accuracy_outliers/50000*100)"
   ]
  },
  {
   "cell_type": "code",
   "execution_count": 12,
   "metadata": {},
   "outputs": [
    {
     "data": {
      "text/plain": [
       "OneClassSVM(cache_size=200, coef0=0.0, degree=3, gamma=0.01, kernel='rbf',\n",
       "            max_iter=-1, nu=0.03, random_state=None, shrinking=True, tol=0.001,\n",
       "            verbose=False)"
      ]
     },
     "execution_count": 12,
     "metadata": {},
     "output_type": "execute_result"
    }
   ],
   "source": [
    "#training One class SVM \n",
    "from sklearn import svm\n",
    "model=svm.OneClassSVM(nu=0.03,kernel='rbf',gamma=0.01)\n",
    "model.fit(train_data)"
   ]
  },
  {
   "cell_type": "code",
   "execution_count": 13,
   "metadata": {},
   "outputs": [
    {
     "name": "stdout",
     "output_type": "stream",
     "text": [
      "train accuracy: 96.904\n"
     ]
    }
   ],
   "source": [
    "y_pred_train_svm=model.predict(train_data)\n",
    "n_error_train_svm=y_pred_train_svm[y_pred_train_svm==-1].size\n",
    "print('train accuracy:',100-n_error_train_svm/50000*100)"
   ]
  },
  {
   "cell_type": "code",
   "execution_count": 14,
   "metadata": {},
   "outputs": [
    {
     "name": "stdout",
     "output_type": "stream",
     "text": [
      "outlier prediction accuracy: 100.0\n"
     ]
    }
   ],
   "source": [
    "y_pred_outliers_svm=model.predict(outlier_data)\n",
    "n_accuracy_outliers_svm=y_pred_outliers_svm[y_pred_outliers_svm==-1].size\n",
    "print('outlier prediction accuracy:' ,n_accuracy_outliers_svm/50000*100)"
   ]
  },
  {
   "cell_type": "code",
   "execution_count": 15,
   "metadata": {},
   "outputs": [
    {
     "name": "stdout",
     "output_type": "stream",
     "text": [
      "(100000, 30)\n",
      "(100000,)\n"
     ]
    }
   ],
   "source": [
    "#data to be displayed on unity\n",
    "MMC1Vlc_1=pd.read_excel(\"MMC1Vlc_1.xlsx\", usecols=\"B:AE\",skiprows=100002)\n",
    "MMC1Vlc_4=pd.read_excel(\"MMC1Vlc_4.xlsx\", usecols=\"B:AE\",skiprows=100002)\n",
    "MMC1Vlc=np.concatenate((MMC1Vlc_1,MMC1Vlc_4), axis=0)\n",
    "ML_prediction=np.concatenate((y_pred_train,y_pred_outliers), axis=0)\n",
    "print(MMC1Vlc.shape)\n",
    "print(ML_prediction.shape)"
   ]
  },
  {
   "cell_type": "code",
   "execution_count": 16,
   "metadata": {},
   "outputs": [],
   "source": [
    "import requests \n",
    "import json \n",
    "import time \n",
    "import datetime\n",
    "\n",
    "API_ENDPOINT = \"https://bmgxwpyyd2.execute-api.us-east-1.amazonaws.com/prod/sensordata\"\n"
   ]
  },
  {
   "cell_type": "code",
   "execution_count": 34,
   "metadata": {},
   "outputs": [
    {
     "name": "stdout",
     "output_type": "stream",
     "text": [
      "{'timestamp': '2020-04-12 16:42:15', 'sensorValues': '{\"sm1\": \"20.4513083514\", \"sm2\": \"20.7647577237\", \"sm3\": \"20.2066547548\", \"sm4\": \"20.7689340097\", \"sm5\": \"20.6868415675\", \"sm6\": \"20.7070167752\", \"sm7\": \"20.7594547625\", \"sm8\": \"20.7585796267\", \"sm9\": \"20.7053430575\", \"sm10\": \"20.7645757216\", \"sm11\": \"20.7741159863\", \"sm12\": \"20.2305661793\", \"sm13\": \"20.6842949952\", \"sm14\": \"20.7030147186\", \"sm15\": \"20.1846139703\", \"sm16\": \"20.8033918196\", \"sm17\": \"20.2915486094\", \"sm18\": \"20.6769631296\", \"sm19\": \"20.6784845669\", \"sm20\": \"20.6580434021\", \"sm21\": \"20.1847069344\", \"sm22\": \"20.4024137017\", \"sm23\": \"20.7443473273\", \"sm24\": \"20.8102861434\", \"ml_prediction\": \"-1\"}'}\n",
      "99999\n"
     ]
    }
   ],
   "source": [
    "i=0\n",
    "for counter in range(0,(MMC1Vlc.shape[0]-1)): \n",
    "    sm_v=MMC1Vlc[counter]\n",
    "    prediction=ML_prediction[counter]\n",
    "    sensor={\"sm1\":str(sm_v[0]),\"sm2\":str(sm_v[1]) ,\"sm3\": str(sm_v[2]),\"sm4\": str(sm_v[3]),\"sm5\":str(sm_v[4]),\n",
    "            \"sm6\": str(sm_v[5]) ,\"sm7\":str(sm_v[6]) ,\"sm8\":str(sm_v[7]) ,\"sm9\":str(sm_v[8]) ,\"sm10\":str(sm_v[9]) ,\n",
    "            \"sm11\": str(sm_v[10]) ,\"sm12\":str(sm_v[11]) ,\"sm13\":str(sm_v[12]) ,\"sm14\":str(sm_v[13]) ,\"sm15\":str(sm_v[14]) ,\n",
    "            \"sm16\": str(sm_v[15]) ,\"sm17\":str(sm_v[16]) ,\"sm18\":str(sm_v[17]) ,\"sm19\":str(sm_v[18]) ,\"sm20\":str(sm_v[19]) ,\n",
    "            \"sm21\": str(sm_v[20]) ,\"sm22\":str(sm_v[21]) ,\"sm23\":str(sm_v[22]) ,\"sm24\":str(sm_v[23]) ,\n",
    "            \"ml_prediction\": str(prediction)}\n",
    "    \n",
    "    sensor2={\"sm25\":str(sm_v[24]) ,\"sm26\": str(sm_v[25]) ,\"sm27\":str(sm_v[26]) ,\"sm28\":str(sm_v[27]) ,\"sm29\":str(sm_v[28]) ,\n",
    "             \"sm30\":str(sm_v[29])\n",
    "            }\n",
    "\n",
    "    # data to be sent to api \n",
    "    data = {'timestamp':\"{:%Y-%m-%d %H:%M:%S}\".format(datetime.datetime.now()), \n",
    "            'sensorValues': json.dumps(sensor)\n",
    "           }\n",
    "    data2 = {'timestamp':\"{:%Y-%m-%d %H:%M:%S}\".format(datetime.datetime.now()), \n",
    "            'sensorValues': json.dumps(sensor2)\n",
    "           }\n",
    "    #data uploading is commented for now considering posting limit of aws \n",
    "    #r = requests.post(url = API_ENDPOINT, json = data) \n",
    "    #print(\"Data returned =%s\"%r.text)\n",
    "    i+=1\n",
    "    #time.sleep(0.02)\n",
    "    \n",
    "print(data)\n",
    "print(i)"
   ]
  },
  {
   "cell_type": "code",
   "execution_count": 35,
   "metadata": {},
   "outputs": [
    {
     "name": "stdout",
     "output_type": "stream",
     "text": [
      "Data returned ={\"active\":false}\n",
      "Data returned ={\"active\":false}\n"
     ]
    }
   ],
   "source": [
    "#uploads the last row of data for now \n",
    "r = requests.post(url = API_ENDPOINT, json = data) \n",
    "r2=  requests.post(url = API_ENDPOINT, json = data2) \n",
    "\n",
    "print(\"Data returned =%s\"%r.text)\n",
    "print(\"Data returned =%s\"%r2.text)"
   ]
  },
  {
   "cell_type": "code",
   "execution_count": 100,
   "metadata": {},
   "outputs": [
    {
     "data": {
      "text/plain": [
       "Text(0, 0.5, 'MMC1: submodule 2 voltage ')"
      ]
     },
     "execution_count": 100,
     "metadata": {},
     "output_type": "execute_result"
    },
    {
     "data": {
      "image/png": "[encoded data removed]",
      "text/plain": [
       "<Figure size 432x288 with 1 Axes>"
      ]
     },
     "metadata": {
      "needs_background": "light"
     },
     "output_type": "display_data"
    }
   ],
   "source": [
    "MMC1Vlc=pd.DataFrame(data=MMC1Vlc)\n",
    "import matplotlib.pyplot as plt\n",
    "x=MMC1Vlc.iloc[0:49999,0]\n",
    "y=MMC1Vlc.iloc[0:49999,1]\n",
    "a=plt.scatter(x, y)\n",
    "x=MMC1Vlc.iloc[50000:99999,0]\n",
    "y=MMC1Vlc.iloc[50000:99999,1]\n",
    "b=plt.scatter(x, y,color='r')\n",
    "plt.legend([a,b],[\"Normal operation\", \"fault\"],loc=\"lower right\")\n",
    "plt.xlabel(\"MMC1: submodule 1 voltage \")\n",
    "plt.ylabel(\"MMC1: submodule 2 voltage \")"
   ]
  },
  {
   "cell_type": "code",
   "execution_count": 101,
   "metadata": {},
   "outputs": [
    {
     "data": {
      "text/plain": [
       "Text(0, 0.5, 'Vsb1')"
      ]
     },
     "execution_count": 101,
     "metadata": {},
     "output_type": "execute_result"
    },
    {
     "data": {
      "image/png": "[encoded data removed]",
      "text/plain": [
       "<Figure size 432x288 with 1 Axes>"
      ]
     },
     "metadata": {
      "needs_background": "light"
     },
     "output_type": "display_data"
    }
   ],
   "source": [
    "x=Vs_1.iloc[:,0]\n",
    "y=Vs_1.iloc[:,1]\n",
    "a=plt.scatter(x, y,color='b')\n",
    "x=Vs_4.iloc[:,0]\n",
    "y=Vs_4.iloc[:,1]\n",
    "b=plt.scatter(x, y,color='r')\n",
    "plt.legend([a,b],[\"Normal operation\", \"fault\"],loc=\"upper right\")\n",
    "plt.xlabel(\"Vsa1\")\n",
    "plt.ylabel(\"Vsb1\")"
   ]
  },
  {
   "cell_type": "code",
   "execution_count": 102,
   "metadata": {},
   "outputs": [
    {
     "data": {
      "text/plain": [
       "Text(0, 0.5, 'Vd2')"
      ]
     },
     "execution_count": 102,
     "metadata": {},
     "output_type": "execute_result"
    },
    {
     "data": {
      "image/png": "[encoded data removed]",
      "text/plain": [
       "<Figure size 432x288 with 1 Axes>"
      ]
     },
     "metadata": {
      "needs_background": "light"
     },
     "output_type": "display_data"
    }
   ],
   "source": [
    "x=Vdc_1.iloc[:,0]\n",
    "y=Vdc_1.iloc[:,1]\n",
    "a=plt.scatter(x, y, color='b')\n",
    "x=Vdc_4.iloc[:,0]\n",
    "y=Vdc_4.iloc[:,1]\n",
    "b=plt.scatter(x, y,color='r')\n",
    "plt.legend([a,b],[\"Normal operation\", \"fault\"],loc=\"lower right\")\n",
    "plt.xlabel(\"Vd1\")\n",
    "plt.ylabel(\"Vd2\")"
   ]
  },
  {
   "cell_type": "code",
   "execution_count": 103,
   "metadata": {},
   "outputs": [
    {
     "data": {
      "text/plain": [
       "Text(0, 0.5, 'Q2')"
      ]
     },
     "execution_count": 103,
     "metadata": {},
     "output_type": "execute_result"
    },
    {
     "data": {
      "image/png": "[encoded data removed]",
      "text/plain": [
       "<Figure size 432x288 with 1 Axes>"
      ]
     },
     "metadata": {
      "needs_background": "light"
     },
     "output_type": "display_data"
    }
   ],
   "source": [
    "#P vs Q \n",
    "x=train_data.iloc[:,1]\n",
    "y=train_data.iloc[:,3]\n",
    "a=plt.scatter(x, y, color='b')\n",
    "x=outlier_data.iloc[:,1]\n",
    "y=outlier_data.iloc[:,3]\n",
    "b=plt.scatter(x, y,color='r')\n",
    "plt.legend([a,b],[\"Normal operation\", \"fault\"],loc=\"lower right\")\n",
    "plt.xlabel(\"P2\")\n",
    "plt.ylabel(\"Q2\")"
   ]
  },
  {
   "cell_type": "code",
   "execution_count": 104,
   "metadata": {},
   "outputs": [
    {
     "data": {
      "text/plain": [
       "Text(0, 0.5, 'Idc2')"
      ]
     },
     "execution_count": 104,
     "metadata": {},
     "output_type": "execute_result"
    },
    {
     "data": {
      "image/png": "[encoded data removed]",
      "text/plain": [
       "<Figure size 432x288 with 1 Axes>"
      ]
     },
     "metadata": {
      "needs_background": "light"
     },
     "output_type": "display_data"
    }
   ],
   "source": [
    "x=Idc_1.iloc[:,0]\n",
    "y=Idc_1.iloc[:,1]\n",
    "a=plt.scatter(x, y, color='b')\n",
    "x=Idc_4.iloc[:,0]\n",
    "y=Idc_4.iloc[:,1]\n",
    "b=plt.scatter(x, y,color='r')\n",
    "plt.legend([a,b],[\"Normal operation\", \"fault\"],loc=\"lower right\")\n",
    "plt.xlabel(\"Idc1\")\n",
    "plt.ylabel(\"Idc2\")"
   ]
  },
  {
   "cell_type": "code",
   "execution_count": 105,
   "metadata": {
    "scrolled": true
   },
   "outputs": [
    {
     "data": {
      "text/plain": [
       "Text(0, 0.5, 'Ib1')"
      ]
     },
     "execution_count": 105,
     "metadata": {},
     "output_type": "execute_result"
    },
    {
     "data": {
      "image/png": "[encoded data removed]",
      "text/plain": [
       "<Figure size 432x288 with 1 Axes>"
      ]
     },
     "metadata": {
      "needs_background": "light"
     },
     "output_type": "display_data"
    }
   ],
   "source": [
    "x=Is_1.iloc[:,0]\n",
    "y=Is_1.iloc[:,1]\n",
    "a=plt.scatter(x, y,color='b')\n",
    "x=Is_4.iloc[:,0]\n",
    "y=Is_4.iloc[:,1]\n",
    "b=plt.scatter(x, y,color='r')\n",
    "plt.legend([a,b],[\"Normal operation\", \"fault\"],loc=\"upper right\")\n",
    "plt.xlabel(\"Ia1\")\n",
    "plt.ylabel(\"Ib1\")"
   ]
  }
 ],
 "metadata": {
  "kernelspec": {
   "display_name": "Python 3",
   "language": "python",
   "name": "python3"
  },
  "language_info": {
   "codemirror_mode": {
    "name": "ipython",
    "version": 3
   },
   "file_extension": ".py",
   "mimetype": "text/x-python",
   "name": "python",
   "nbconvert_exporter": "python",
   "pygments_lexer": "ipython3",
   "version": "3.7.4"
  }
 },
 "nbformat": 4,
 "nbformat_minor": 2
}
