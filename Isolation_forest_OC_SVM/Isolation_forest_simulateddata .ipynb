{
 "cells": [
  {
   "cell_type": "code",
   "execution_count": 1,
   "metadata": {
    "scrolled": true
   },
   "outputs": [
    {
     "name": "stdout",
     "output_type": "stream",
     "text": [
      "(50000, 14)\n"
     ]
    },
    {
     "data": {
      "text/html": [
       "<div>\n",
       "<style scoped>\n",
       "    .dataframe tbody tr th:only-of-type {\n",
       "        vertical-align: middle;\n",
       "    }\n",
       "\n",
       "    .dataframe tbody tr th {\n",
       "        vertical-align: top;\n",
       "    }\n",
       "\n",
       "    .dataframe thead th {\n",
       "        text-align: right;\n",
       "    }\n",
       "</style>\n",
       "<table border=\"1\" class=\"dataframe\">\n",
       "  <thead>\n",
       "    <tr style=\"text-align: right;\">\n",
       "      <th></th>\n",
       "      <th>0</th>\n",
       "      <th>1</th>\n",
       "      <th>2</th>\n",
       "      <th>3</th>\n",
       "      <th>4</th>\n",
       "      <th>5</th>\n",
       "      <th>6</th>\n",
       "      <th>7</th>\n",
       "      <th>8</th>\n",
       "      <th>9</th>\n",
       "      <th>10</th>\n",
       "      <th>11</th>\n",
       "      <th>12</th>\n",
       "      <th>13</th>\n",
       "    </tr>\n",
       "  </thead>\n",
       "  <tbody>\n",
       "    <tr>\n",
       "      <td>count</td>\n",
       "      <td>50000.000000</td>\n",
       "      <td>50000.000000</td>\n",
       "      <td>50000.000000</td>\n",
       "      <td>50000.000000</td>\n",
       "      <td>50000.000000</td>\n",
       "      <td>50000.000000</td>\n",
       "      <td>50000.000000</td>\n",
       "      <td>50000.000000</td>\n",
       "      <td>50000.000000</td>\n",
       "      <td>50000.000000</td>\n",
       "      <td>50000.000000</td>\n",
       "      <td>50000.000000</td>\n",
       "      <td>50000.000000</td>\n",
       "      <td>50000.000000</td>\n",
       "    </tr>\n",
       "    <tr>\n",
       "      <td>mean</td>\n",
       "      <td>-931.875523</td>\n",
       "      <td>899.996451</td>\n",
       "      <td>0.010224</td>\n",
       "      <td>-0.004468</td>\n",
       "      <td>599.981783</td>\n",
       "      <td>594.225500</td>\n",
       "      <td>0.003480</td>\n",
       "      <td>0.001547</td>\n",
       "      <td>-0.005027</td>\n",
       "      <td>-1.535362</td>\n",
       "      <td>-1.530386</td>\n",
       "      <td>0.000114</td>\n",
       "      <td>-0.001364</td>\n",
       "      <td>0.001250</td>\n",
       "    </tr>\n",
       "    <tr>\n",
       "      <td>std</td>\n",
       "      <td>2.466219</td>\n",
       "      <td>0.154757</td>\n",
       "      <td>0.174811</td>\n",
       "      <td>0.161377</td>\n",
       "      <td>1.628571</td>\n",
       "      <td>1.666889</td>\n",
       "      <td>218.068474</td>\n",
       "      <td>218.039698</td>\n",
       "      <td>218.023325</td>\n",
       "      <td>0.021992</td>\n",
       "      <td>0.027448</td>\n",
       "      <td>1.425044</td>\n",
       "      <td>1.425668</td>\n",
       "      <td>1.424904</td>\n",
       "    </tr>\n",
       "    <tr>\n",
       "      <td>min</td>\n",
       "      <td>-939.392780</td>\n",
       "      <td>899.526106</td>\n",
       "      <td>-0.686010</td>\n",
       "      <td>-0.518044</td>\n",
       "      <td>595.359047</td>\n",
       "      <td>589.881844</td>\n",
       "      <td>-317.155719</td>\n",
       "      <td>-317.174208</td>\n",
       "      <td>-316.946901</td>\n",
       "      <td>-1.626516</td>\n",
       "      <td>-1.650864</td>\n",
       "      <td>-2.040729</td>\n",
       "      <td>-2.042136</td>\n",
       "      <td>-2.036507</td>\n",
       "    </tr>\n",
       "    <tr>\n",
       "      <td>25%</td>\n",
       "      <td>-932.674144</td>\n",
       "      <td>899.886207</td>\n",
       "      <td>-0.102493</td>\n",
       "      <td>-0.117979</td>\n",
       "      <td>598.735286</td>\n",
       "      <td>593.014749</td>\n",
       "      <td>-214.204689</td>\n",
       "      <td>-214.404769</td>\n",
       "      <td>-214.474508</td>\n",
       "      <td>-1.549718</td>\n",
       "      <td>-1.547341</td>\n",
       "      <td>-1.425896</td>\n",
       "      <td>-1.428106</td>\n",
       "      <td>-1.424386</td>\n",
       "    </tr>\n",
       "    <tr>\n",
       "      <td>50%</td>\n",
       "      <td>-931.783435</td>\n",
       "      <td>899.991315</td>\n",
       "      <td>0.014799</td>\n",
       "      <td>-0.006892</td>\n",
       "      <td>599.994797</td>\n",
       "      <td>594.167872</td>\n",
       "      <td>0.212797</td>\n",
       "      <td>-0.108504</td>\n",
       "      <td>-0.998207</td>\n",
       "      <td>-1.533815</td>\n",
       "      <td>-1.529109</td>\n",
       "      <td>-0.000717</td>\n",
       "      <td>0.000268</td>\n",
       "      <td>0.000341</td>\n",
       "    </tr>\n",
       "    <tr>\n",
       "      <td>75%</td>\n",
       "      <td>-931.011394</td>\n",
       "      <td>900.099170</td>\n",
       "      <td>0.128662</td>\n",
       "      <td>0.109586</td>\n",
       "      <td>601.202982</td>\n",
       "      <td>595.453952</td>\n",
       "      <td>214.327320</td>\n",
       "      <td>214.794533</td>\n",
       "      <td>214.342607</td>\n",
       "      <td>-1.519686</td>\n",
       "      <td>-1.511834</td>\n",
       "      <td>1.426188</td>\n",
       "      <td>1.424922</td>\n",
       "      <td>1.427599</td>\n",
       "    </tr>\n",
       "    <tr>\n",
       "      <td>max</td>\n",
       "      <td>-921.782518</td>\n",
       "      <td>900.515468</td>\n",
       "      <td>0.604444</td>\n",
       "      <td>0.488796</td>\n",
       "      <td>605.351088</td>\n",
       "      <td>598.615021</td>\n",
       "      <td>316.935574</td>\n",
       "      <td>316.924889</td>\n",
       "      <td>316.981069</td>\n",
       "      <td>-1.468571</td>\n",
       "      <td>-1.441937</td>\n",
       "      <td>2.038365</td>\n",
       "      <td>2.042171</td>\n",
       "      <td>2.044322</td>\n",
       "    </tr>\n",
       "  </tbody>\n",
       "</table>\n",
       "</div>"
      ],
      "text/plain": [
       "                 0             1             2             3             4   \\\n",
       "count  50000.000000  50000.000000  50000.000000  50000.000000  50000.000000   \n",
       "mean    -931.875523    899.996451      0.010224     -0.004468    599.981783   \n",
       "std        2.466219      0.154757      0.174811      0.161377      1.628571   \n",
       "min     -939.392780    899.526106     -0.686010     -0.518044    595.359047   \n",
       "25%     -932.674144    899.886207     -0.102493     -0.117979    598.735286   \n",
       "50%     -931.783435    899.991315      0.014799     -0.006892    599.994797   \n",
       "75%     -931.011394    900.099170      0.128662      0.109586    601.202982   \n",
       "max     -921.782518    900.515468      0.604444      0.488796    605.351088   \n",
       "\n",
       "                 5             6             7             8             9   \\\n",
       "count  50000.000000  50000.000000  50000.000000  50000.000000  50000.000000   \n",
       "mean     594.225500      0.003480      0.001547     -0.005027     -1.535362   \n",
       "std        1.666889    218.068474    218.039698    218.023325      0.021992   \n",
       "min      589.881844   -317.155719   -317.174208   -316.946901     -1.626516   \n",
       "25%      593.014749   -214.204689   -214.404769   -214.474508     -1.549718   \n",
       "50%      594.167872      0.212797     -0.108504     -0.998207     -1.533815   \n",
       "75%      595.453952    214.327320    214.794533    214.342607     -1.519686   \n",
       "max      598.615021    316.935574    316.924889    316.981069     -1.468571   \n",
       "\n",
       "                 10            11            12            13  \n",
       "count  50000.000000  50000.000000  50000.000000  50000.000000  \n",
       "mean      -1.530386      0.000114     -0.001364      0.001250  \n",
       "std        0.027448      1.425044      1.425668      1.424904  \n",
       "min       -1.650864     -2.040729     -2.042136     -2.036507  \n",
       "25%       -1.547341     -1.425896     -1.428106     -1.424386  \n",
       "50%       -1.529109     -0.000717      0.000268      0.000341  \n",
       "75%       -1.511834      1.426188      1.424922      1.427599  \n",
       "max       -1.441937      2.038365      2.042171      2.044322  "
      ]
     },
     "execution_count": 1,
     "metadata": {},
     "output_type": "execute_result"
    }
   ],
   "source": [
    "import pandas as pd\n",
    "import numpy as np\n",
    "train_data = pd.read_excel(\"PQ_1.xlsx\", usecols=\"B:E\",skiprows=100002)\n",
    "Vdc_1=pd.read_excel(\"Vdc_1.xlsx\", usecols=\"B:C\",skiprows=100002)\n",
    "Vs_1=pd.read_excel(\"Vs_1.xlsx\", usecols=\"B:D\",skiprows=100002)\n",
    "Idc_1=pd.read_excel(\"Idc_1.xlsx\", usecols=\"B:C\",skiprows=100002)\n",
    "Is_1=pd.read_excel(\"Is_1.xlsx\", usecols=\"B:D\",skiprows=100002)\n",
    "train_data=np.concatenate((train_data, Vdc_1,Vs_1,Idc_1,Is_1), axis=1)\n",
    "train_data = pd.DataFrame(data=train_data)\n",
    "print(train_data.shape)\n",
    "train_data.describe()"
   ]
  },
  {
   "cell_type": "code",
   "execution_count": 2,
   "metadata": {},
   "outputs": [
    {
     "name": "stdout",
     "output_type": "stream",
     "text": [
      "(50000, 14)\n"
     ]
    },
    {
     "data": {
      "text/html": [
       "<div>\n",
       "<style scoped>\n",
       "    .dataframe tbody tr th:only-of-type {\n",
       "        vertical-align: middle;\n",
       "    }\n",
       "\n",
       "    .dataframe tbody tr th {\n",
       "        vertical-align: top;\n",
       "    }\n",
       "\n",
       "    .dataframe thead th {\n",
       "        text-align: right;\n",
       "    }\n",
       "</style>\n",
       "<table border=\"1\" class=\"dataframe\">\n",
       "  <thead>\n",
       "    <tr style=\"text-align: right;\">\n",
       "      <th></th>\n",
       "      <th>0</th>\n",
       "      <th>1</th>\n",
       "      <th>2</th>\n",
       "      <th>3</th>\n",
       "      <th>4</th>\n",
       "      <th>5</th>\n",
       "      <th>6</th>\n",
       "      <th>7</th>\n",
       "      <th>8</th>\n",
       "      <th>9</th>\n",
       "      <th>10</th>\n",
       "      <th>11</th>\n",
       "      <th>12</th>\n",
       "      <th>13</th>\n",
       "    </tr>\n",
       "  </thead>\n",
       "  <tbody>\n",
       "    <tr>\n",
       "      <td>count</td>\n",
       "      <td>50000.000000</td>\n",
       "      <td>50000.000000</td>\n",
       "      <td>50000.000000</td>\n",
       "      <td>50000.000000</td>\n",
       "      <td>50000.000000</td>\n",
       "      <td>50000.000000</td>\n",
       "      <td>50000.000000</td>\n",
       "      <td>50000.000000</td>\n",
       "      <td>50000.000000</td>\n",
       "      <td>50000.000000</td>\n",
       "      <td>50000.000000</td>\n",
       "      <td>50000.000000</td>\n",
       "      <td>50000.000000</td>\n",
       "      <td>50000.000000</td>\n",
       "    </tr>\n",
       "    <tr>\n",
       "      <td>mean</td>\n",
       "      <td>-0.040621</td>\n",
       "      <td>-2.394531</td>\n",
       "      <td>-9.466789</td>\n",
       "      <td>-0.163484</td>\n",
       "      <td>517.990607</td>\n",
       "      <td>517.946602</td>\n",
       "      <td>-0.000189</td>\n",
       "      <td>-0.003975</td>\n",
       "      <td>0.004164</td>\n",
       "      <td>-0.000025</td>\n",
       "      <td>0.004267</td>\n",
       "      <td>-0.000069</td>\n",
       "      <td>-0.001765</td>\n",
       "      <td>0.001834</td>\n",
       "    </tr>\n",
       "    <tr>\n",
       "      <td>std</td>\n",
       "      <td>0.112897</td>\n",
       "      <td>0.377157</td>\n",
       "      <td>0.112908</td>\n",
       "      <td>0.457593</td>\n",
       "      <td>0.489655</td>\n",
       "      <td>0.405483</td>\n",
       "      <td>230.319736</td>\n",
       "      <td>230.317741</td>\n",
       "      <td>230.319156</td>\n",
       "      <td>0.000005</td>\n",
       "      <td>0.005531</td>\n",
       "      <td>0.013701</td>\n",
       "      <td>0.013705</td>\n",
       "      <td>0.013697</td>\n",
       "    </tr>\n",
       "    <tr>\n",
       "      <td>min</td>\n",
       "      <td>-0.205278</td>\n",
       "      <td>-3.439062</td>\n",
       "      <td>-9.631299</td>\n",
       "      <td>-0.968161</td>\n",
       "      <td>516.529183</td>\n",
       "      <td>516.713063</td>\n",
       "      <td>-325.715280</td>\n",
       "      <td>-325.719085</td>\n",
       "      <td>-325.712496</td>\n",
       "      <td>-0.000031</td>\n",
       "      <td>-0.012950</td>\n",
       "      <td>-0.019475</td>\n",
       "      <td>-0.021218</td>\n",
       "      <td>-0.017578</td>\n",
       "    </tr>\n",
       "    <tr>\n",
       "      <td>25%</td>\n",
       "      <td>-0.153426</td>\n",
       "      <td>-2.662766</td>\n",
       "      <td>-9.579648</td>\n",
       "      <td>-0.606432</td>\n",
       "      <td>517.657080</td>\n",
       "      <td>517.613759</td>\n",
       "      <td>-230.305747</td>\n",
       "      <td>-230.090422</td>\n",
       "      <td>-230.057908</td>\n",
       "      <td>-0.000028</td>\n",
       "      <td>0.000201</td>\n",
       "      <td>-0.013771</td>\n",
       "      <td>-0.015469</td>\n",
       "      <td>-0.011863</td>\n",
       "    </tr>\n",
       "    <tr>\n",
       "      <td>50%</td>\n",
       "      <td>-0.040563</td>\n",
       "      <td>-2.393745</td>\n",
       "      <td>-9.466822</td>\n",
       "      <td>-0.147647</td>\n",
       "      <td>517.919936</td>\n",
       "      <td>517.932874</td>\n",
       "      <td>-0.000158</td>\n",
       "      <td>-0.004011</td>\n",
       "      <td>0.004169</td>\n",
       "      <td>-0.000026</td>\n",
       "      <td>0.004453</td>\n",
       "      <td>-0.000069</td>\n",
       "      <td>-0.001765</td>\n",
       "      <td>0.001833</td>\n",
       "    </tr>\n",
       "    <tr>\n",
       "      <td>75%</td>\n",
       "      <td>0.072228</td>\n",
       "      <td>-2.131181</td>\n",
       "      <td>-9.353977</td>\n",
       "      <td>0.271564</td>\n",
       "      <td>518.374724</td>\n",
       "      <td>518.284778</td>\n",
       "      <td>230.305429</td>\n",
       "      <td>230.082392</td>\n",
       "      <td>230.066289</td>\n",
       "      <td>-0.000021</td>\n",
       "      <td>0.008278</td>\n",
       "      <td>0.013632</td>\n",
       "      <td>0.011940</td>\n",
       "      <td>0.015530</td>\n",
       "    </tr>\n",
       "    <tr>\n",
       "      <td>max</td>\n",
       "      <td>0.123907</td>\n",
       "      <td>-1.349398</td>\n",
       "      <td>-9.302103</td>\n",
       "      <td>0.647441</td>\n",
       "      <td>519.239847</td>\n",
       "      <td>519.021783</td>\n",
       "      <td>325.719282</td>\n",
       "      <td>325.711087</td>\n",
       "      <td>325.717931</td>\n",
       "      <td>-0.000016</td>\n",
       "      <td>0.022423</td>\n",
       "      <td>0.019336</td>\n",
       "      <td>0.017689</td>\n",
       "      <td>0.021247</td>\n",
       "    </tr>\n",
       "  </tbody>\n",
       "</table>\n",
       "</div>"
      ],
      "text/plain": [
       "                 0             1             2             3             4   \\\n",
       "count  50000.000000  50000.000000  50000.000000  50000.000000  50000.000000   \n",
       "mean      -0.040621     -2.394531     -9.466789     -0.163484    517.990607   \n",
       "std        0.112897      0.377157      0.112908      0.457593      0.489655   \n",
       "min       -0.205278     -3.439062     -9.631299     -0.968161    516.529183   \n",
       "25%       -0.153426     -2.662766     -9.579648     -0.606432    517.657080   \n",
       "50%       -0.040563     -2.393745     -9.466822     -0.147647    517.919936   \n",
       "75%        0.072228     -2.131181     -9.353977      0.271564    518.374724   \n",
       "max        0.123907     -1.349398     -9.302103      0.647441    519.239847   \n",
       "\n",
       "                 5             6             7             8             9   \\\n",
       "count  50000.000000  50000.000000  50000.000000  50000.000000  50000.000000   \n",
       "mean     517.946602     -0.000189     -0.003975      0.004164     -0.000025   \n",
       "std        0.405483    230.319736    230.317741    230.319156      0.000005   \n",
       "min      516.713063   -325.715280   -325.719085   -325.712496     -0.000031   \n",
       "25%      517.613759   -230.305747   -230.090422   -230.057908     -0.000028   \n",
       "50%      517.932874     -0.000158     -0.004011      0.004169     -0.000026   \n",
       "75%      518.284778    230.305429    230.082392    230.066289     -0.000021   \n",
       "max      519.021783    325.719282    325.711087    325.717931     -0.000016   \n",
       "\n",
       "                 10            11            12            13  \n",
       "count  50000.000000  50000.000000  50000.000000  50000.000000  \n",
       "mean       0.004267     -0.000069     -0.001765      0.001834  \n",
       "std        0.005531      0.013701      0.013705      0.013697  \n",
       "min       -0.012950     -0.019475     -0.021218     -0.017578  \n",
       "25%        0.000201     -0.013771     -0.015469     -0.011863  \n",
       "50%        0.004453     -0.000069     -0.001765      0.001833  \n",
       "75%        0.008278      0.013632      0.011940      0.015530  \n",
       "max        0.022423      0.019336      0.017689      0.021247  "
      ]
     },
     "execution_count": 2,
     "metadata": {},
     "output_type": "execute_result"
    }
   ],
   "source": [
    "outlier_data = pd.read_excel(\"PQ_4.xlsx\", usecols=\"B:E\",skiprows=100002)\n",
    "Vdc_4=pd.read_excel(\"Vdc_4.xlsx\", usecols=\"B:C\",skiprows=100002)\n",
    "Vs_4=pd.read_excel(\"Vs_4.xlsx\", usecols=\"B:D\",skiprows=100002)\n",
    "Idc_4=pd.read_excel(\"Idc_4.xlsx\", usecols=\"B:C\",skiprows=100002)\n",
    "Is_4=pd.read_excel(\"Is_4.xlsx\", usecols=\"B:D\",skiprows=100002)\n",
    "outlier_data=np.concatenate((outlier_data, Vdc_4,Vs_4,Idc_4,Is_4), axis=1)\n",
    "outlier_data = pd.DataFrame(data=outlier_data)\n",
    "print(outlier_data.shape)\n",
    "outlier_data.describe()"
   ]
  },
  {
   "cell_type": "code",
   "execution_count": 4,
   "metadata": {},
   "outputs": [
    {
     "data": {
      "text/plain": [
       "IsolationForest(behaviour='new', bootstrap=False, contamination=0.01,\n",
       "                max_features=1.0, max_samples=10, n_estimators=100, n_jobs=None,\n",
       "                random_state=RandomState(MT19937) at 0x122BEA050, verbose=0,\n",
       "                warm_start=False)"
      ]
     },
     "execution_count": 4,
     "metadata": {},
     "output_type": "execute_result"
    }
   ],
   "source": [
    "from sklearn.ensemble import IsolationForest\n",
    "rng = np.random.RandomState(42)\n",
    "clf = IsolationForest(max_samples=10, random_state=rng, behaviour=\"new\",contamination=0.01)\n",
    "clf.fit(train_data)"
   ]
  },
  {
   "cell_type": "code",
   "execution_count": 5,
   "metadata": {},
   "outputs": [
    {
     "name": "stdout",
     "output_type": "stream",
     "text": [
      "train accuracy: 99.0\n",
      "outlier prediction accuracy: 100.0\n"
     ]
    }
   ],
   "source": [
    "y_pred_train=clf.predict(train_data)\n",
    "y_pred_outliers=clf.predict(outlier_data)\n",
    "n_error_train=y_pred_train[y_pred_train==-1].size\n",
    "print('train accuracy:',100-n_error_train/50000*100)\n",
    "n_accuracy_outliers=y_pred_outliers[y_pred_outliers==-1].size\n",
    "print('outlier prediction accuracy:' ,n_accuracy_outliers/50000*100)"
   ]
  },
  {
   "cell_type": "code",
   "execution_count": 6,
   "metadata": {},
   "outputs": [
    {
     "data": {
      "text/plain": [
       "OneClassSVM(cache_size=200, coef0=0.0, degree=3, gamma=0.01, kernel='rbf',\n",
       "            max_iter=-1, nu=0.03, random_state=None, shrinking=True, tol=0.001,\n",
       "            verbose=False)"
      ]
     },
     "execution_count": 6,
     "metadata": {},
     "output_type": "execute_result"
    }
   ],
   "source": [
    "from sklearn import svm\n",
    "model=svm.OneClassSVM(nu=0.03,kernel='rbf',gamma=0.01)\n",
    "model.fit(train_data)"
   ]
  },
  {
   "cell_type": "code",
   "execution_count": 7,
   "metadata": {},
   "outputs": [
    {
     "name": "stdout",
     "output_type": "stream",
     "text": [
      "train accuracy: 96.904\n"
     ]
    }
   ],
   "source": [
    "y_pred_train_svm=model.predict(train_data)\n",
    "n_error_train_svm=y_pred_train_svm[y_pred_train_svm==-1].size\n",
    "print('train accuracy:',100-n_error_train_svm/50000*100)"
   ]
  },
  {
   "cell_type": "code",
   "execution_count": 8,
   "metadata": {},
   "outputs": [
    {
     "name": "stdout",
     "output_type": "stream",
     "text": [
      "outlier prediction accuracy: 100.0\n"
     ]
    }
   ],
   "source": [
    "y_pred_outliers_svm=model.predict(outlier_data)\n",
    "n_accuracy_outliers_svm=y_pred_outliers_svm[y_pred_outliers_svm==-1].size\n",
    "print('outlier prediction accuracy:' ,n_accuracy_outliers_svm/50000*100)"
   ]
  },
  {
   "cell_type": "code",
   "execution_count": 9,
   "metadata": {},
   "outputs": [
    {
     "name": "stdout",
     "output_type": "stream",
     "text": [
      "(100000, 30)\n",
      "(100000,)\n"
     ]
    }
   ],
   "source": [
    "MMC1Vlc_1=pd.read_excel(\"MMC1Vlc_1.xlsx\", usecols=\"B:AE\",skiprows=100002)\n",
    "MMC1Vlc_4=pd.read_excel(\"MMC1Vlc_4.xlsx\", usecols=\"B:AE\",skiprows=100002)\n",
    "MMC1Vlc=np.concatenate((MMC1Vlc_1,MMC1Vlc_4), axis=0)\n",
    "ML_prediction=np.concatenate((y_pred_train,y_pred_outliers), axis=0)\n",
    "print(MMC1Vlc.shape)\n",
    "print(ML_prediction.shape)"
   ]
  },
  {
   "cell_type": "code",
   "execution_count": 10,
   "metadata": {},
   "outputs": [
    {
     "name": "stdout",
     "output_type": "stream",
     "text": [
      "50000\n"
     ]
    }
   ],
   "source": [
    "print(MMC1Vlc_1.shape[0])"
   ]
  },
  {
   "cell_type": "code",
   "execution_count": 11,
   "metadata": {},
   "outputs": [
    {
     "name": "stdout",
     "output_type": "stream",
     "text": [
      "50000\n"
     ]
    }
   ],
   "source": [
    "print(y_pred_outliers.shape[0])"
   ]
  },
  {
   "cell_type": "code",
   "execution_count": 18,
   "metadata": {},
   "outputs": [],
   "source": [
    "counter=train_data.shape[0]+outlier_data.shape[0]\n",
    "index=0\n",
    "API_ENDPOINT = \"https://bmgxwpyyd2.execute-api.us-east-1.amazonaws.com/prod/sensordata\"\n",
    "\n",
    "import json\n",
    "import time \n",
    "import datetime\n",
    "import requests\n",
    "\n",
    "while index<counter:\n",
    "    sensor= {\"MMC1_Vlc1\": str(MMC1Vlc[index][0]),\"MMC1_Vlc2\": str(MMC1Vlc[index][1]),\"MMC1_Vlc3\": str(MMC1Vlc[index][2]),\"MMC1_Vlc4\": str(MMC1Vlc[index][3]),\"MMC1_Vlc5\": str(MMC1Vlc[index][4]),\"MMC1_Vlc6\": str(MMC1Vlc[index][5]), \"MMC1_Vlc7\": str(MMC1Vlc[index][6]),\"MMC1_Vlc8\": str(MMC1Vlc[index][7]),\"MMC1_Vlc9\": str(MMC1Vlc[index][8]),\"MMC1_Vlc10\": str(MMC1Vlc[index][9]),\"MMC1_Vlc11\": str(MMC1Vlc[index][10]),\"MMC1_Vlc12\": str(MMC1Vlc[index][11]),\"MMC1_Vlc13\": str(MMC1Vlc[index][12]),\"MMC1_Vlc14\": str(MMC1Vlc[index][13]),\"MMC1_Vlc15\": str(MMC1Vlc[index][14]),\"MMC1_Vlc16\": str(MMC1Vlc[index][15]),\"MMC1_Vlc17\": str(MMC1Vlc[index][16]),\"MMC1_Vlc18\": str(MMC1Vlc[index][17]),\"MMC1_Vlc19\": str(MMC1Vlc[index][18]),\"MMC1_Vlc20\": str(MMC1Vlc[index][19]),\"MMC1_Vlc21\": str(MMC1Vlc[index][20]),\"MMC1_Vlc22\": str(MMC1Vlc[index][21]),\"MMC1_Vlc23\": str(MMC1Vlc[index][22]),\"MMC1_Vlc24\": str(MMC1Vlc[index][23]),\"MMC1_Vlc25\": str(MMC1Vlc[index][24]),\"MMC1_Vlc26\": str(MMC1Vlc[index][25]),\"MMC1_Vlc27\": str(MMC1Vlc[index][26]),\"MMC1_Vlc28\": str(MMC1Vlc[index][27]),\"MMC1_Vlc29\": str(MMC1Vlc[index][28]),\"MMC1_Vlc30\": str(MMC1Vlc[index][29]),\"ML prediction\": str(ML_prediction[index])}\n",
    "    data = {\"timestamp\": \"{:%Y-%m-%d %H:%M:%S}\".format(datetime.datetime.now()),\n",
    "            \"sensorValues\": json.dumps(sensor) \n",
    "           } \n",
    "\n",
    "    #time.sleep(0.050)\n",
    "    #r = requests.post(url = API_ENDPOINT, json = data)\n",
    "    index+=1\n",
    "    #print(\"Data returned =%s\"%r.text)"
   ]
  },
  {
   "cell_type": "code",
   "execution_count": 19,
   "metadata": {},
   "outputs": [],
   "source": [
    "#print(json.dumps(data))"
   ]
  },
  {
   "cell_type": "code",
   "execution_count": 20,
   "metadata": {},
   "outputs": [
    {
     "name": "stdout",
     "output_type": "stream",
     "text": [
      "Data returned ={\"errorMessage\":\"1 validation error detected: Value '{SensorData0=[WriteRequest(putRequest=PutRequest(item={SensorID=AttributeValue(s=ML prediction, n=null, b=null, sS=null, nS=null, bS=null, m=null, l=null, nULL=null, bOOL=null), Timestamp=AttributeValue(s=2020-03-30 10:14:55, n=null, b=null, sS=null, nS=null, bS=null, m=null, l=null, nULL=null, bOOL=null), SensorValue=AttributeValue(s=null, n=-1, b=null, sS=null, nS=null, bS=null, m=null, l=null, nULL=null, bOOL=null)}), deleteRequest=null), WriteRequest(putRequest=PutRequest(item={SensorID=AttributeValue(s=MMC1_Vlc25, n=null, b=null, sS=null, nS=null, bS=null, m=null, l=null, nULL=null, bOOL=null), Timestamp=AttributeValue(s=2020-03-30 10:14:55, n=null, b=null, sS=null, nS=null, bS=null, m=null, l=null, nULL=null, bOOL=null), SensorValue=AttributeValue(s=null, n=20.8020052385, b=null, sS=null, nS=null, bS=null, m=null, l=null, nULL=null, bOOL=null)}), deleteRequest=null), WriteRequest(putRequest=PutRequest(item={SensorID=AttributeValue(s=MMC1_Vlc24, n=null, b=null, sS=null, nS=null, bS=null, m=null, l=null, nULL=null, bOOL=null), Timestamp=AttributeValue(s=2020-03-30 10:14:55, n=null, b=null, sS=null, nS=null, bS=null, m=null, l=null, nULL=null, bOOL=null), SensorValue=AttributeValue(s=null, n=20.8102861434, b=null, sS=null, nS=null, bS=null, m=null, l=null, nULL=null, bOOL=null)}), deleteRequest=null), WriteRequest(putRequest=PutRequest(item={SensorID=AttributeValue(s=MMC1_Vlc23, n=null, b=null, sS=null, nS=null, bS=null, m=null, l=null, nULL=null, bOOL=null), Timestamp=AttributeValue(s=2020-03-30 10:14:55, n=null, b=null, sS=null, nS=null, bS=null, m=null, l=null, nULL=null, bOOL=null), SensorValue=AttributeValue(s=null, n=20.7443473273, b=null, sS=null, nS=null, bS=null, m=null, l=null, nULL=null, bOOL=null)}), deleteRequest=null), WriteRequest(putRequest=PutRequest(item={SensorID=AttributeValue(s=MMC1_Vlc22, n=null, b=null, sS=null, nS=null, bS=null, m=null, l=null, nULL=null, bOOL=null), Timestamp=AttributeValue(s=2020-03-30 10:14:55, n=null, b=null, sS=null, nS=null, bS=null, m=null, l=null, nULL=null, bOOL=null), SensorValue=AttributeValue(s=null, n=20.4024137017, b=null, sS=null, nS=null, bS=null, m=null, l=null, nULL=null, bOOL=null)}), deleteRequest=null), WriteRequest(putRequest=PutRequest(item={SensorID=AttributeValue(s=MMC1_Vlc21, n=null, b=null, sS=null, nS=null, bS=null, m=null, l=null, nULL=null, bOOL=null), Timestamp=AttributeValue(s=2020-03-30 10:14:55, n=null, b=null, sS=null, nS=null, bS=null, m=null, l=null, nULL=null, bOOL=null), SensorValue=AttributeValue(s=null, n=20.1847069344, b=null, sS=null, nS=null, bS=null, m=null, l=null, nULL=null, bOOL=null)}), deleteRequest=null), WriteRequest(putRequest=PutRequest(item={SensorID=AttributeValue(s=MMC1_Vlc20, n=null, b=null, sS=null, nS=null, bS=null, m=null, l=null, nULL=null, bOOL=null), Timestamp=AttributeValue(s=2020-03-30 10:14:55, n=null, b=null, sS=null, nS=null, bS=null, m=null, l=null, nULL=null, bOOL=null), SensorValue=AttributeValue(s=null, n=20.6580434021, b=null, sS=null, nS=null, bS=null, m=null, l=null, nULL=null, bOOL=null)}), deleteRequest=null), WriteRequest(putRequest=PutRequest(item={SensorID=AttributeValue(s=MMC1_Vlc19, n=null, b=null, sS=null, nS=null, bS=null, m=null, l=null, nULL=null, bOOL=null), Timestamp=AttributeValue(s=2020-03-30 10:14:55, n=null, b=null, sS=null, nS=null, bS=null, m=null, l=null, nULL=null, bOOL=null), SensorValue=AttributeValue(s=null, n=20.6784845669, b=null, sS=null, nS=null, bS=null, m=null, l=null, nULL=null, bOOL=null)}), deleteRequest=null), WriteRequest(putRequest=PutRequest(item={SensorID=AttributeValue(s=MMC1_Vlc18, n=null, b=null, sS=null, nS=null, bS=null, m=null, l=null, nULL=null, bOOL=null), Timestamp=AttributeValue(s=2020-03-30 10:14:55, n=null, b=null, sS=null, nS=null, bS=null, m=null, l=null, nULL=null, bOOL=null), SensorValue=AttributeValue(s=null, n=20.6769631296, b=null, sS=null, nS=null, bS=null, m=null, l=null, nULL=null, bOOL=null)}), deleteRequest=null), WriteRequest(putRequest=PutRequest(item={SensorID=AttributeValue(s=MMC1_Vlc17, n=null, b=null, sS=null, nS=null, bS=null, m=null, l=null, nULL=null, bOOL=null), Timestamp=AttributeValue(s=2020-03-30 10:14:55, n=null, b=null, sS=null, nS=null, bS=null, m=null, l=null, nULL=null, bOOL=null), SensorValue=AttributeValue(s=null, n=20.2915486094, b=null, sS=null, nS=null, bS=null, m=null, l=null, nULL=null, bOOL=null)}), deleteRequest=null), WriteRequest(putRequest=PutRequest(item={SensorID=AttributeValue(s=MMC1_Vlc16, n=null, b=null, sS=null, nS=null, bS=null, m=null, l=null, nULL=null, bOOL=null), Timestamp=AttributeValue(s=2020-03-30 10:14:55, n=null, b=null, sS=null, nS=null, bS=null, m=null, l=null, nULL=null, bOOL=null), SensorValue=AttributeValue(s=null, n=20.8033918196, b=null, sS=null, nS=null, bS=null, m=null, l=null, nULL=null, bOOL=null)}), deleteRequest=null), WriteRequest(putRequest=PutRequest(item={SensorID=AttributeValue(s=MMC1_Vlc15, n=null, b=null, sS=null, nS=null, bS=null, m=null, l=null, nULL=null, bOOL=null), Timestamp=AttributeValue(s=2020-03-30 10:14:55, n=null, b=null, sS=null, nS=null, bS=null, m=null, l=null, nULL=null, bOOL=null), SensorValue=AttributeValue(s=null, n=20.1846139703, b=null, sS=null, nS=null, bS=null, m=null, l=null, nULL=null, bOOL=null)}), deleteRequest=null), WriteRequest(putRequest=PutRequest(item={SensorID=AttributeValue(s=MMC1_Vlc2, n=null, b=null, sS=null, nS=null, bS=null, m=null, l=null, nULL=null, bOOL=null), Timestamp=AttributeValue(s=2020-03-30 10:14:55, n=null, b=null, sS=null, nS=null, bS=null, m=null, l=null, nULL=null, bOOL=null), SensorValue=AttributeValue(s=null, n=20.7647577237, b=null, sS=null, nS=null, bS=null, m=null, l=null, nULL=null, bOOL=null)}), deleteRequest=null), WriteRequest(putRequest=PutRequest(item={SensorID=AttributeValue(s=MMC1_Vlc3, n=null, b=null, sS=null, nS=null, bS=null, m=null, l=null, nULL=null, bOOL=null), Timestamp=AttributeValue(s=2020-03-30 10:14:55, n=null, b=null, sS=null, nS=null, bS=null, m=null, l=null, nULL=null, bOOL=null), SensorValue=AttributeValue(s=null, n=20.2066547548, b=null, sS=null, nS=null, bS=null, m=null, l=null, nULL=null, bOOL=null)}), deleteRequest=null), WriteRequest(putRequest=PutRequest(item={SensorID=AttributeValue(s=MMC1_Vlc1, n=null, b=null, sS=null, nS=null, bS=null, m=null, l=null, nULL=null, bOOL=null), Timestamp=AttributeValue(s=2020-03-30 10:14:55, n=null, b=null, sS=null, nS=null, bS=null, m=null, l=null, nULL=null, bOOL=null), SensorValue=AttributeValue(s=null, n=20.4513083514, b=null, sS=null, nS=null, bS=null, m=null, l=null, nULL=null, bOOL=null)}), deleteRequest=null), WriteRequest(putRequest=PutRequest(item={SensorID=AttributeValue(s=MMC1_Vlc6, n=null, b=null, sS=null, nS=null, bS=null, m=null, l=null, nULL=null, bOOL=null), Timestamp=AttributeValue(s=2020-03-30 10:14:55, n=null, b=null, sS=null, nS=null, bS=null, m=null, l=null, nULL=null, bOOL=null), SensorValue=AttributeValue(s=null, n=20.7070167752, b=null, sS=null, nS=null, bS=null, m=null, l=null, nULL=null, bOOL=null)}), deleteRequest=null), WriteRequest(putRequest=PutRequest(item={SensorID=AttributeValue(s=MMC1_Vlc14, n=null, b=null, sS=null, nS=null, bS=null, m=null, l=null, nULL=null, bOOL=null), Timestamp=AttributeValue(s=2020-03-30 10:14:55, n=null, b=null, sS=null, nS=null, bS=null, m=null, l=null, nULL=null, bOOL=null), SensorValue=AttributeValue(s=null, n=20.7030147186, b=null, sS=null, nS=null, bS=null, m=null, l=null, nULL=null, bOOL=null)}), deleteRequest=null), WriteRequest(putRequest=PutRequest(item={SensorID=AttributeValue(s=MMC1_Vlc7, n=null, b=null, sS=null, nS=null, bS=null, m=null, l=null, nULL=null, bOOL=null), Timestamp=AttributeValue(s=2020-03-30 10:14:55, n=null, b=null, sS=null, nS=null, bS=null, m=null, l=null, nULL=null, bOOL=null), SensorValue=AttributeValue(s=null, n=20.7594547625, b=null, sS=null, nS=null, bS=null, m=null, l=null, nULL=null, bOOL=null)}), deleteRequest=null), WriteRequest(putRequest=PutRequest(item={SensorID=AttributeValue(s=MMC1_Vlc13, n=null, b=null, sS=null, nS=null, bS=null, m=null, l=null, nULL=null, bOOL=null), Timestamp=AttributeValue(s=2020-03-30 10:14:55, n=null, b=null, sS=null, nS=null, bS=null, m=null, l=null, nULL=null, bOOL=null), SensorValue=AttributeValue(s=null, n=20.6842949952, b=null, sS=null, nS=null, bS=null, m=null, l=null, nULL=null, bOOL=null)}), deleteRequest=null), WriteRequest(putRequest=PutRequest(item={SensorID=AttributeValue(s=MMC1_Vlc4, n=null, b=null, sS=null, nS=null, bS=null, m=null, l=null, nULL=null, bOOL=null), Timestamp=AttributeValue(s=2020-03-30 10:14:55, n=null, b=null, sS=null, nS=null, bS=null, m=null, l=null, nULL=null, bOOL=null), SensorValue=AttributeValue(s=null, n=20.7689340097, b=null, sS=null, nS=null, bS=null, m=null, l=null, nULL=null, bOOL=null)}), deleteRequest=null), WriteRequest(putRequest=PutRequest(item={SensorID=AttributeValue(s=MMC1_Vlc12, n=null, b=null, sS=null, nS=null, bS=null, m=null, l=null, nULL=null, bOOL=null), Timestamp=AttributeValue(s=2020-03-30 10:14:55, n=null, b=null, sS=null, nS=null, bS=null, m=null, l=null, nULL=null, bOOL=null), SensorValue=AttributeValue(s=null, n=20.2305661793, b=null, sS=null, nS=null, bS=null, m=null, l=null, nULL=null, bOOL=null)}), deleteRequest=null), WriteRequest(putRequest=PutRequest(item={SensorID=AttributeValue(s=MMC1_Vlc5, n=null, b=null, sS=null, nS=null, bS=null, m=null, l=null, nULL=null, bOOL=null), Timestamp=AttributeValue(s=2020-03-30 10:14:55, n=null, b=null, sS=null, nS=null, bS=null, m=null, l=null, nULL=null, bOOL=null), SensorValue=AttributeValue(s=null, n=20.6868415675, b=null, sS=null, nS=null, bS=null, m=null, l=null, nULL=null, bOOL=null)}), deleteRequest=null), WriteRequest(putRequest=PutRequest(item={SensorID=AttributeValue(s=MMC1_Vlc11, n=null, b=null, sS=null, nS=null, bS=null, m=null, l=null, nULL=null, bOOL=null), Timestamp=AttributeValue(s=2020-03-30 10:14:55, n=null, b=null, sS=null, nS=null, bS=null, m=null, l=null, nULL=null, bOOL=null), SensorValue=AttributeValue(s=null, n=20.7741159863, b=null, sS=null, nS=null, bS=null, m=null, l=null, nULL=null, bOOL=null)}), deleteRequest=null), WriteRequest(putRequest=PutRequest(item={SensorID=AttributeValue(s=MMC1_Vlc10, n=null, b=null, sS=null, nS=null, bS=null, m=null, l=null, nULL=null, bOOL=null), Timestamp=AttributeValue(s=2020-03-30 10:14:55, n=null, b=null, sS=null, nS=null, bS=null, m=null, l=null, nULL=null, bOOL=null), SensorValue=AttributeValue(s=null, n=20.7645757216, b=null, sS=null, nS=null, bS=null, m=null, l=null, nULL=null, bOOL=null)}), deleteRequest=null), WriteRequest(putRequest=PutRequest(item={SensorID=AttributeValue(s=MMC1_Vlc8, n=null, b=null, sS=null, nS=null, bS=null, m=null, l=null, nULL=null, bOOL=null), Timestamp=AttributeValue(s=2020-03-30 10:14:55, n=null, b=null, sS=null, nS=null, bS=null, m=null, l=null, nULL=null, bOOL=null), SensorValue=AttributeValue(s=null, n=20.7585796267, b=null, sS=null, nS=null, bS=null, m=null, l=null, nULL=null, bOOL=null)}), deleteRequest=null), WriteRequest(putRequest=PutRequest(item={SensorID=AttributeValue(s=MMC1_Vlc30, n=null, b=null, sS=null, nS=null, bS=null, m=null, l=null, nULL=null, bOOL=null), Timestamp=AttributeValue(s=2020-03-30 10:14:55, n=null, b=null, sS=null, nS=null, bS=null, m=null, l=null, nULL=null, bOOL=null), SensorValue=AttributeValue(s=null, n=20.747752453, b=null, sS=null, nS=null, bS=null, m=null, l=null, nULL=null, bOOL=null)}), deleteRequest=null), WriteRequest(putRequest=PutRequest(item={SensorID=AttributeValue(s=MMC1_Vlc9, n=null, b=null, sS=null, nS=null, bS=null, m=null, l=null, nULL=null, bOOL=null), Timestamp=AttributeValue(s=2020-03-30 10:14:55, n=null, b=null, sS=null, nS=null, bS=null, m=null, l=null, nULL=null, bOOL=null), SensorValue=AttributeValue(s=null, n=20.7053430575, b=null, sS=null, nS=null, bS=null, m=null, l=null, nULL=null, bOOL=null)}), deleteRequest=null), WriteRequest(putRequest=PutRequest(item={SensorID=AttributeValue(s=MMC1_Vlc29, n=null, b=null, sS=null, nS=null, bS=null, m=null, l=null, nULL=null, bOOL=null), Timestamp=AttributeValue(s=2020-03-30 10:14:55, n=null, b=null, sS=null, nS=null, bS=null, m=null, l=null, nULL=null, bOOL=null), SensorValue=AttributeValue(s=null, n=20.7056535045, b=null, sS=null, nS=null, bS=null, m=null, l=null, nULL=null, bOOL=null)}), deleteRequest=null), WriteRequest(putRequest=PutRequest(item={SensorID=AttributeValue(s=MMC1_Vlc28, n=null, b=null, sS=null, nS=null, bS=null, m=null, l=null, nULL=null, bOOL=null), Timestamp=AttributeValue(s=2020-03-30 10:14:55, n=null, b=null, sS=null, nS=null, bS=null, m=null, l=null, nULL=null, bOOL=null), SensorValue=AttributeValue(s=null, n=20.7054282394, b=null, sS=null, nS=null, bS=null, m=null, l=null, nULL=null, bOOL=null)}), deleteRequest=null), WriteRequest(putRequest=PutRequest(item={SensorID=AttributeValue(s=MMC1_Vlc27, n=null, b=null, sS=null, nS=null, bS=null, m=null, l=null, nULL=null, bOOL=null), Timestamp=AttributeValue(s=2020-03-30 10:14:55, n=null, b=null, sS=null, nS=null, bS=null, m=null, l=null, nULL=null, bOOL=null), SensorValue=AttributeValue(s=null, n=20.6582611815, b=null, sS=null, nS=null, bS=null, m=null, l=null, nULL=null, bOOL=null)}), deleteRequest=null), WriteRequest(putRequest=PutRequest(item={SensorID=AttributeValue(s=MMC1_Vlc26, n=null, b=null, sS=null, nS=null, bS=null, m=null, l=null, nULL=null, bOOL=null), Timestamp=AttributeValue(s=2020-03-30 10:14:55, n=null, b=null, sS=null, nS=null, bS=null, m=null, l=null, nULL=null, bOOL=null), SensorValue=AttributeValue(s=null, n=20.1811785653, b=null, sS=null, nS=null, bS=null, m=null, l=null, nULL=null, bOOL=null)}), deleteRequest=null)]}' at 'requestItems' failed to satisfy constraint: Map value must satisfy constraint: [Member must have length less than or equal to 25, Member must have length greater than or equal to 1] (Service: AmazonDynamoDBv2; Status Code: 400; Error Code: ValidationException; Request ID: QR1POJFDL6I73FFQHVUFLPM5U7VV4KQNSO5AEMVJF66Q9ASUAAJG)\",\"errorType\":\"com.amazonaws.AmazonServiceException\",\"stackTrace\":[\"com.amazonaws.http.AmazonHttpClient.handleErrorResponse(AmazonHttpClient.java:1305)\",\"com.amazonaws.http.AmazonHttpClient.executeOneRequest(AmazonHttpClient.java:852)\",\"com.amazonaws.http.AmazonHttpClient.executeHelper(AmazonHttpClient.java:630)\",\"com.amazonaws.http.AmazonHttpClient.doExecute(AmazonHttpClient.java:405)\",\"com.amazonaws.http.AmazonHttpClient.executeWithTimer(AmazonHttpClient.java:367)\",\"com.amazonaws.http.AmazonHttpClient.execute(AmazonHttpClient.java:318)\",\"com.amazonaws.services.dynamodbv2.AmazonDynamoDBClient.doInvoke(AmazonDynamoDBClient.java:2023)\",\"com.amazonaws.services.dynamodbv2.AmazonDynamoDBClient.invoke(AmazonDynamoDBClient.java:1993)\",\"com.amazonaws.services.dynamodbv2.AmazonDynamoDBClient.batchWriteItem(AmazonDynamoDBClient.java:789)\",\"org.limr.lambdas.putsensordatalambda.PutSensorDataLambda.handleRequest(PutSensorDataLambda.java:67)\",\"org.limr.lambdas.putsensordatalambda.PutSensorDataLambda.handleRequest(PutSensorDataLambda.java:21)\"]}\n"
     ]
    }
   ],
   "source": [
    "r = requests.post(url = API_ENDPOINT, json = data)\n",
    "print(\"Data returned =%s\"%r.text)"
   ]
  },
  {
   "cell_type": "code",
   "execution_count": null,
   "metadata": {},
   "outputs": [],
   "source": []
  }
 ],
 "metadata": {
  "kernelspec": {
   "display_name": "Python 3",
   "language": "python",
   "name": "python3"
  },
  "language_info": {
   "codemirror_mode": {
    "name": "ipython",
    "version": 3
   },
   "file_extension": ".py",
   "mimetype": "text/x-python",
   "name": "python",
   "nbconvert_exporter": "python",
   "pygments_lexer": "ipython3",
   "version": "3.7.4"
  }
 },
 "nbformat": 4,
 "nbformat_minor": 2
}
